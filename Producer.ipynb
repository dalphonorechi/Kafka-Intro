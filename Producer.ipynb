{
 "cells": [
  {
   "cell_type": "code",
   "execution_count": 52,
   "id": "c8e40116-1613-494f-a0c0-f45d9a520406",
   "metadata": {},
   "outputs": [],
   "source": [
    "# import required files\n",
    "from kafka import KafkaProducer\n",
    "from pizza import PizzaProvider\n",
    "from faker import Faker\n",
    "import random as rn\n",
    "import json\n",
    "import time\n",
    "from pprint import pprint"
   ]
  },
  {
   "cell_type": "code",
   "execution_count": 53,
   "id": "b443c8f1-2bc1-4690-8bbe-4e5028f41bfe",
   "metadata": {},
   "outputs": [],
   "source": [
    "# instatntiate faker with provider\n",
    "fake = Faker()\n",
    "Faker.seed(42)\n",
    "fake.add_provider(PizzaProvider)"
   ]
  },
  {
   "cell_type": "code",
   "execution_count": 54,
   "id": "19303c7d-e360-4939-9878-e2712b8471cd",
   "metadata": {},
   "outputs": [],
   "source": [
    "def produce_pizza_order(order_count = 1):\n",
    "    \n",
    "    shop = fake.pizza_shop()\n",
    "    \n",
    "    pizzas = []\n",
    "    \n",
    "    for pizza in range(rn.randint(1, 6)): # randomly select number of pizza to add to order\n",
    "        toppings = []\n",
    "        \n",
    "        for i in range(rn.randint(1,4)): # randomly select number of pizza toppings to add to pizza\n",
    "            toppings.append(fake.pizza_toppings())\n",
    "            \n",
    "        pizzas.append({\n",
    "            'pizzaName':fake.pizza_name(),\n",
    "            'additionalToppings':toppings\n",
    "        })\n",
    "    # generate a full order with name, address e.t.c\n",
    "    message = {\n",
    "        'id':order_count,\n",
    "        'shop':shop,\n",
    "        'name':fake.unique.name(),\n",
    "        'phoneNumber':fake.unique.phone_number(),\n",
    "        'address':fake.address(),\n",
    "        'pizzas':pizzas\n",
    "    }\n",
    "    \n",
    "    key = {'shop': shop}\n",
    "    \n",
    "    return key, message"
   ]
  },
  {
   "cell_type": "code",
   "execution_count": 55,
   "id": "5a3ee24d-0be0-425e-a3a4-78a17c22b4fd",
   "metadata": {},
   "outputs": [],
   "source": [
    "def produce_messages(hostname='localhost',\n",
    "                    port='9092',\n",
    "                    topic_name='pizza-orders',\n",
    "                    nr_messages=2,\n",
    "                     max_waiting_time_in_sec=5\n",
    "                    ):\n",
    "    \n",
    "    producer = KafkaProducer(\n",
    "        bootstrap_servers=[hostname+\":\"+port],\n",
    "        value_serializer=lambda value: json.dumps(value).encode('ascii'),\n",
    "        key_serializer=lambda key: json.dumps(key).encode('ascii')\n",
    "    )\n",
    "    \n",
    "    i = 0\n",
    "    while i < nr_messages:\n",
    "        key, message = produce_pizza_order(i)\n",
    "        \n",
    "        pprint('Sending: {}'.format(message))\n",
    "        \n",
    "        producer.send(topic_name, key=key, value=message)\n",
    "        \n",
    "        sleep_time = rn.randint(0, max_waiting_time_in_sec)\n",
    "        \n",
    "        time.sleep(sleep_time)\n",
    "        \n",
    "        if i % 100 == 0:\n",
    "            producer.flush()\n",
    "        i = i + 1\n",
    "    \n",
    "    producer.flush()"
   ]
  },
  {
   "cell_type": "code",
   "execution_count": 50,
   "id": "ebce3308-c17f-43f5-9bbc-cd591f60518c",
   "metadata": {},
   "outputs": [
    {
     "name": "stdout",
     "output_type": "stream",
     "text": [
      "(\"Sending: {'id': 0, 'shop': 'Mammamia Pizza', 'name': 'Sean Rasmussen', \"\n",
      " \"'phoneNumber': '586-850-1429x401', 'address': '569 Paul Ports Apt. 406\\\\nNew \"\n",
      " \"Saraside, TX 94798', 'pizzas': [{'pizzaName': 'Margherita', \"\n",
      " \"'additionalToppings': ['mozarella']}, {'pizzaName': 'Marinara', \"\n",
      " \"'additionalToppings': ['garlic', 'tomato', 'tomato']}, {'pizzaName': \"\n",
      " \"'Salami', 'additionalToppings': ['garlic', 'garlic']}, {'pizzaName': \"\n",
      " \"'Peperoni', 'additionalToppings': ['ham', 'ham']}]}\")\n",
      "(\"Sending: {'id': 1, 'shop': 'Mammamia Pizza', 'name': 'Nancy Gonzalez', \"\n",
      " \"'phoneNumber': '(159)514-8465x64823', 'address': '299 Sullivan Village Apt. \"\n",
      " \"443\\\\nFloydmouth, NH 58406', 'pizzas': [{'pizzaName': 'Peperoni', \"\n",
      " \"'additionalToppings': ['ham', 'banana']}, {'pizzaName': 'Salami', \"\n",
      " \"'additionalToppings': ['olives']}, {'pizzaName': 'Marinara', \"\n",
      " \"'additionalToppings': ['tuna', 'olives']}, {'pizzaName': 'Peperoni', \"\n",
      " \"'additionalToppings': ['blue cheese', 'mozarella', 'ham']}, {'pizzaName': \"\n",
      " \"'Diavola', 'additionalToppings': ['blue cheese']}, {'pizzaName': \"\n",
      " \"'Margherita', 'additionalToppings': ['ham', 'mozarella', 'garlic', \"\n",
      " \"'mozarella']}]}\")\n"
     ]
    }
   ],
   "source": [
    "produce_messages()"
   ]
  },
  {
   "cell_type": "code",
   "execution_count": null,
   "id": "c7aa19f4-1bf6-4598-9b86-8d865ba5e145",
   "metadata": {},
   "outputs": [],
   "source": []
  }
 ],
 "metadata": {
  "kernelspec": {
   "display_name": "Python 3 (ipykernel)",
   "language": "python",
   "name": "python3"
  },
  "language_info": {
   "codemirror_mode": {
    "name": "ipython",
    "version": 3
   },
   "file_extension": ".py",
   "mimetype": "text/x-python",
   "name": "python",
   "nbconvert_exporter": "python",
   "pygments_lexer": "ipython3",
   "version": "3.9.7"
  }
 },
 "nbformat": 4,
 "nbformat_minor": 5
}
